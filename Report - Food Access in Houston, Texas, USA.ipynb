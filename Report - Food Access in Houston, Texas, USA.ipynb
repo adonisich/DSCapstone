{
    "cells": [
        {
            "cell_type": "markdown",
            "metadata": {
                "collapsed": true
            },
            "source": "# Food Access in Houston, TX, USA\n#### Adonis Ichim, June 11th, 2020"
        },
        {
            "cell_type": "markdown",
            "metadata": {},
            "source": "## Introduction "
        },
        {
            "attachments": {},
            "cell_type": "markdown",
            "metadata": {},
            "source": "The City of Houston, Texas, USA is the\u00a0fourth most populous city in the United States with an estimated 2019 population of 2,320,268. The Houston metropolitan area spans over 1,062 square miles (or 2,750 square kilometers), and is home to more than 6.9 million residents. Houston's economy has a broad base in energy, healthcare, manufacturing, aeronautics, and transportation. Houston is a majority-minority city, with a vibrant, ethnically and culturally diverse community. The city boasts more than 10,000 restaurants, bars, and supporting businesses. \n\n\nBecause of the city's large surface area, limited options of efficient public transportation, zoning laws, and income variability, some zones may not provide adequate food access to the population. According to USDA 2014 data, Houston had 0.17 grocery stores per 1,000 people. I will explore what those zones are today and provide solutions to decrease the number of residents living in a food desert.\n"
        },
        {
            "cell_type": "markdown",
            "metadata": {},
            "source": "## Data "
        },
        {
            "attachments": {},
            "cell_type": "markdown",
            "metadata": {},
            "source": "To determine zones with unsatisfactory food access, I will leverage Foursquare's API and access geospatial data. The venue categories I will focus on are: \n* grocery store, \n* supermarket, \n* market, \n* farmers market, \n* food & drink shop.\n\nI will combine this with Census data, centralized and published by Houston State of Health. The census data pertains to: \n* income, \n* living cost, \n* internet and vehicle availability, \n\nand will enable our understanding of what type of food venue one may consider for a specific location. \nData will be analyzed by Postal Code, which will increase the granularity of the analysis."
        },
        {
            "cell_type": "markdown",
            "metadata": {},
            "source": "## References"
        },
        {
            "attachments": {},
            "cell_type": "markdown",
            "metadata": {},
            "source": "(1) [City of Houston](https://www.houston.org/sites/default/files/2019-08/Houston%20Facts%202019%20Final_3.pdf)\n\n(2) [Houston State of Health](www.houstonstateofhealth.com) \n\n(3) [United States Department of Agriculture](https://www.ers.usda.gov/data-products/food-access-research-atlas/) "
        },
        {
            "cell_type": "code",
            "execution_count": null,
            "metadata": {},
            "outputs": [],
            "source": ""
        }
    ],
    "metadata": {
        "kernelspec": {
            "display_name": "Python 3.6",
            "language": "python",
            "name": "python3"
        },
        "language_info": {
            "codemirror_mode": {
                "name": "ipython",
                "version": 3
            },
            "file_extension": ".py",
            "mimetype": "text/x-python",
            "name": "python",
            "nbconvert_exporter": "python",
            "pygments_lexer": "ipython3",
            "version": "3.6.9"
        }
    },
    "nbformat": 4,
    "nbformat_minor": 1
}